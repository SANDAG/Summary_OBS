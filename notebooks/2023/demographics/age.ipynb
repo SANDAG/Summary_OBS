{
 "cells": [
  {
   "cell_type": "markdown",
   "metadata": {},
   "source": [
    "---\n",
    "title: \"Age\"\n",
    "format:\n",
    "  html:\n",
    "    toc: true\n",
    "    css: styles.css\n",
    "    echo: true\n",
    "    code-fold: true\n",
    "---\n"
   ]
  },
  {
   "cell_type": "code",
   "execution_count": null,
   "metadata": {},
   "outputs": [],
   "source": [
    "# | echo: false\n",
    "%reload_ext autoreload\n",
    "%autoreload 2\n",
    "\n",
    "from pathlib import Path\n",
    "\n",
    "import pandas as pd\n",
    "import toml\n",
    "from IPython.display import HTML\n",
    "import plotly.graph_objects as go\n",
    "import plotly.io as pio\n",
    "\n",
    "\n",
    "pio.renderers.default = \"notebook\"\n",
    "\n",
    "CONFIG = toml.load(\"config.toml\")\n",
    "SAVE_DIR = Path(CONFIG[\"obs2023\"][\"save_dir\"])"
   ]
  },
  {
   "cell_type": "markdown",
   "metadata": {},
   "source": [
    "### Data"
   ]
  },
  {
   "cell_type": "code",
   "execution_count": null,
   "metadata": {},
   "outputs": [],
   "source": [
    "# | code-summary: \"Data\"\n",
    "# Categorize based on HHTS categories\n",
    "\n",
    "age = pd.concat(\n",
    "    [\n",
    "        pd.read_parquet(SAVE_DIR / \"age.parquet\"),\n",
    "        pd.read_parquet(SAVE_DIR / \"weights.parquet\"),\n",
    "    ],\n",
    "    axis=1,\n",
    ")"
   ]
  },
  {
   "cell_type": "markdown",
   "metadata": {},
   "source": [
    "## Table"
   ]
  },
  {
   "cell_type": "code",
   "execution_count": null,
   "metadata": {},
   "outputs": [],
   "source": [
    "# | code-summary: \"Table\"\n",
    "\n",
    "unweighted = age.groupby(\"age_category\", observed=True).size()\n",
    "unlinked = age.groupby(\"age_category\", observed=True).unlinked_weight.sum()\n",
    "linked = age.groupby(\"age_category\", observed=True).linked_weight.sum()\n",
    "total_valid = age.dropna().size\n",
    "total = age.size\n",
    "\n",
    "summary = pd.DataFrame(\n",
    "    {\n",
    "        (\"unweighted\", \"count\"): unweighted,\n",
    "        (\"unweighted\", \"percent\"): unweighted / unweighted.sum(),\n",
    "        (\"unlinked_weight\", \"count\"): unlinked,\n",
    "        (\"unlinked_weight\", \"percent\"): unlinked / unlinked.sum(),\n",
    "        (\"linked_weight\", \"count\"): linked,\n",
    "        (\"linked_weight\", \"percent\"): linked / linked.sum(),\n",
    "    }\n",
    ")\n",
    "\n",
    "table = pd.concat(\n",
    "    [\n",
    "        summary,\n",
    "        pd.DataFrame(\n",
    "            [\n",
    "                {\n",
    "                    \"age_category\": \"Total valid\",\n",
    "                    (\"unweighted\", \"count\"): total_valid,\n",
    "                    (\"unweighted\", \"percent\"): total_valid / total,\n",
    "                },\n",
    "                {\"age_category\": \"Total\", (\"unweighted\", \"count\"): total},\n",
    "            ],\n",
    "            index=[\"Total valid\", \"Total\"],\n",
    "        ).set_index(\"age_category\"),\n",
    "    ]\n",
    ").to_html(\n",
    "    formatters={\n",
    "        (\"unweighted\", \"count\"): \"{:,.0f}\".format,\n",
    "        (\"unweighted\", \"percent\"): \"{:,.2%}\".format,\n",
    "        (\"unlinked_weight\", \"count\"): \"{:,.0f}\".format,\n",
    "        (\"unlinked_weight\", \"percent\"): \"{:,.2%}\".format,\n",
    "        (\"linked_weight\", \"count\"): \"{:,.0f}\".format,\n",
    "        (\"linked_weight\", \"percent\"): \"{:,.2%}\".format,\n",
    "    }\n",
    ")\n",
    "\n",
    "HTML(table)"
   ]
  },
  {
   "cell_type": "markdown",
   "metadata": {},
   "source": [
    "## Charts"
   ]
  },
  {
   "cell_type": "code",
   "execution_count": null,
   "metadata": {},
   "outputs": [],
   "source": [
    "# | code-summary: \"Chart\"\n",
    "\n",
    "figure = go.Figure()\n",
    "figure.add_trace(\n",
    "    go.Bar(\n",
    "        x=summary.index,\n",
    "        y=summary[(\"unweighted\", \"percent\")],\n",
    "        name=\"Unweighted\",\n",
    "    )\n",
    ")\n",
    "figure.add_trace(\n",
    "    go.Bar(\n",
    "        x=summary.index,\n",
    "        y=summary[(\"unlinked_weight\", \"percent\")],\n",
    "        name=\"Weighted (Unlinked)\",\n",
    "    )\n",
    ")\n",
    "figure.add_trace(\n",
    "    go.Bar(\n",
    "        x=summary.index,\n",
    "        y=summary[(\"linked_weight\", \"percent\")],\n",
    "        name=\"Weighted (Linked)\",\n",
    "    )\n",
    ")\n",
    "figure.update_layout(\n",
    "    title_text=\"Unweighted and Weighted Responses by Age\",\n",
    "    yaxis_range=[0, 1],\n",
    "    yaxis_tickformat=\",.0%\",\n",
    "    xaxis_title=\"Age\",\n",
    "    yaxis_title=\"Percent\",\n",
    ")\n",
    "\n",
    "figure"
   ]
  },
  {
   "cell_type": "code",
   "execution_count": null,
   "metadata": {},
   "outputs": [],
   "source": []
  }
 ],
 "metadata": {
  "kernelspec": {
   "display_name": "Python 3",
   "language": "python",
   "name": "python3"
  },
  "language_info": {
   "codemirror_mode": {
    "name": "ipython",
    "version": 3
   },
   "file_extension": ".py",
   "mimetype": "text/x-python",
   "name": "python",
   "nbconvert_exporter": "python",
   "pygments_lexer": "ipython3",
   "version": "3.12.3"
  }
 },
 "nbformat": 4,
 "nbformat_minor": 2
}
