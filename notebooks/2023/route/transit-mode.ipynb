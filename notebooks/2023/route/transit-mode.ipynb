{
 "cells": [
  {
   "cell_type": "markdown",
   "metadata": {},
   "source": [
    "---\n",
    "title: \"Transit Mode\"\n",
    "format:\n",
    "  html:\n",
    "    toc: true\n",
    "    css: styles.css\n",
    "    echo: true\n",
    "    code-fold: true\n",
    "---\n"
   ]
  },
  {
   "cell_type": "code",
   "execution_count": null,
   "metadata": {},
   "outputs": [],
   "source": [
    "# | echo: false\n",
    "%reload_ext autoreload\n",
    "%autoreload 2\n",
    "\n",
    "import numpy as np\n",
    "import pandas as pd\n",
    "import toml\n",
    "from IPython.display import HTML\n",
    "import plotly.io as pio\n",
    "\n",
    "pio.renderers.default = \"notebook\"\n",
    "\n",
    "CONFIG = toml.load(\"config.toml\")"
   ]
  },
  {
   "cell_type": "code",
   "execution_count": null,
   "metadata": {},
   "outputs": [],
   "source": [
    "obs2023 = pd.read_parquet(\"../../../data/obs2023.parquet\")\n",
    "obs2023"
   ]
  },
  {
   "cell_type": "code",
   "execution_count": null,
   "metadata": {},
   "outputs": [],
   "source": [
    "# | code-summary: \"Data\"\n",
    "# Categorize based on HHTS categories\n",
    "hhts_ages = {\n",
    "    \"Under 5\": 4,\n",
    "    \"5-15\": 15,\n",
    "    \"16-17\": 17,\n",
    "    \"17-18\": 18,\n",
    "    \"25-34\": 34,\n",
    "    \"35-44\": 44,\n",
    "    \"45-54\": 54,\n",
    "    \"55-64\": 64,\n",
    "    \"65-74\": 74,\n",
    "    \"75-84\": 84,\n",
    "    \"85 or Older\": np.inf,\n",
    "}\n",
    "\n",
    "age = pd.DataFrame(\n",
    "    {\n",
    "        \"age\": (obs2023.DATE_COMPLETED.dt.year - obs2023.YEAR_BORN),\n",
    "        \"age_category\": pd.cut(\n",
    "            # Calculate age based on survey date and respondents birth year\n",
    "            x=(obs2023.DATE_COMPLETED.dt.year - obs2023.YEAR_BORN),\n",
    "            bins=[0] + list(hhts_ages.values()),\n",
    "            labels=list(hhts_ages.keys()),\n",
    "        ),\n",
    "        \"unlinked_weight\": obs2023.UNLINKED_WGHT_FCTR,\n",
    "        \"linked_weight\": obs2023.LINKED_WGHT_FCTR,\n",
    "    }\n",
    ")"
   ]
  },
  {
   "cell_type": "code",
   "execution_count": null,
   "metadata": {},
   "outputs": [],
   "source": [
    "# | code-summary: \"Table\"\n",
    "\n",
    "unweighted = age.groupby(\"age_category\", observed=True).size()\n",
    "unlinked = age.groupby(\"age_category\", observed=True).unlinked_weight.sum()\n",
    "linked = age.groupby(\"age_category\", observed=True).linked_weight.sum()\n",
    "total_valid = age.dropna().size\n",
    "total = age.size\n",
    "\n",
    "summary = pd.DataFrame(\n",
    "    {\n",
    "        (\"unweighted\", \"count\"): unweighted,\n",
    "        (\"unweighted\", \"percent\"): unweighted / unweighted.sum(),\n",
    "        (\"unlinked_weight\", \"count\"): unlinked,\n",
    "        (\"unlinked_weight\", \"percent\"): unlinked / unlinked.sum(),\n",
    "        (\"linked_weight\", \"count\"): linked,\n",
    "        (\"linked_weight\", \"percent\"): linked / linked.sum(),\n",
    "    }\n",
    ")\n",
    "\n",
    "table = pd.concat(\n",
    "    [\n",
    "        summary,\n",
    "        pd.DataFrame(\n",
    "            [\n",
    "                {\n",
    "                    \"age_category\": \"Total valid\",\n",
    "                    (\"unweighted\", \"count\"): total_valid,\n",
    "                    (\"unweighted\", \"percent\"): total_valid / total,\n",
    "                },\n",
    "                {\"age_category\": \"Total\", (\"unweighted\", \"count\"): total},\n",
    "            ],\n",
    "            index=[\"Total valid\", \"Total\"],\n",
    "        ).set_index(\"age_category\"),\n",
    "    ]\n",
    ").to_html(\n",
    "    formatters={\n",
    "        (\"unweighted\", \"count\"): \"{:,.0f}\".format,\n",
    "        (\"unweighted\", \"percent\"): \"{:,.2%}\".format,\n",
    "        (\"unlinked_weight\", \"count\"): \"{:,.0f}\".format,\n",
    "        (\"unlinked_weight\", \"percent\"): \"{:,.2%}\".format,\n",
    "        (\"linked_weight\", \"count\"): \"{:,.0f}\".format,\n",
    "        (\"linked_weight\", \"percent\"): \"{:,.2%}\".format,\n",
    "    }\n",
    ")\n",
    "\n",
    "HTML(table)"
   ]
  },
  {
   "cell_type": "code",
   "execution_count": null,
   "metadata": {},
   "outputs": [],
   "source": []
  }
 ],
 "metadata": {
  "kernelspec": {
   "display_name": "Python 3",
   "language": "python",
   "name": "python3"
  },
  "language_info": {
   "codemirror_mode": {
    "name": "ipython",
    "version": 3
   },
   "file_extension": ".py",
   "mimetype": "text/x-python",
   "name": "python",
   "nbconvert_exporter": "python",
   "pygments_lexer": "ipython3",
   "version": "3.12.3"
  }
 },
 "nbformat": 4,
 "nbformat_minor": 2
}
