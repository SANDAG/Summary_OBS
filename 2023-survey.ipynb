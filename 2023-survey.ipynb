{
 "cells": [
  {
   "cell_type": "markdown",
   "metadata": {},
   "source": [
    "---\n",
    "title: \"2023 Survey\"\n",
    "format:\n",
    "  html:\n",
    "    toc: true\n",
    "    css: styles.css\n",
    "    echo: true\n",
    "    code-fold: true\n",
    "---\n"
   ]
  },
  {
   "cell_type": "code",
   "execution_count": null,
   "metadata": {},
   "outputs": [],
   "source": [
    "#| echo: false\n",
    "%reload_ext autoreload\n",
    "%autoreload 2\n",
    "\n",
    "from pathlib import Path\n",
    "\n",
    "import numpy as np\n",
    "import pandas as pd\n",
    "import toml\n",
    "from IPython.display import HTML\n",
    "import plotly.graph_objects as go\n",
    "import plotly.io as pio\n",
    "\n",
    "pio.renderers.default = \"notebook\"\n",
    "\n",
    "CONFIG  = toml.load('config.toml')"
   ]
  },
  {
   "cell_type": "code",
   "execution_count": null,
   "metadata": {},
   "outputs": [],
   "source": [
    "#| code-summary: \"Data\"\n",
    "xlsx_path = (\n",
    "    Path(CONFIG['obs_2023']['paths']['obs_dir'])\n",
    "    /CONFIG['obs_2023']['paths']['od_xlsx']\n",
    ")\n",
    "results_sheet = CONFIG['obs_2023']['sheets']['results']\n",
    "\n",
    "obs = (\n",
    "    pd.read_excel(xlsx_path, sheet_name=results_sheet)\n",
    "    .set_index('ID')\n",
    ")"
   ]
  },
  {
   "cell_type": "markdown",
   "metadata": {},
   "source": [
    "## Demographics"
   ]
  },
  {
   "cell_type": "markdown",
   "metadata": {},
   "source": [
    "### Age"
   ]
  },
  {
   "cell_type": "code",
   "execution_count": null,
   "metadata": {},
   "outputs": [],
   "source": [
    "#| code-summary: \"Data\"\n",
    "# Categorize based on HHTS categories\n",
    "hhts_ages = {\n",
    "    'Under 5': 5,\n",
    "    '5-15': 15,\n",
    "    '16-17': 17,\n",
    "    '17-18': 18,\n",
    "    '25-34': 34,\n",
    "    '35-44': 44,\n",
    "    '45-54': 54,\n",
    "    '55-64': 64,\n",
    "    '65-74': 74,\n",
    "    '75-84': 84,\n",
    "    '85 or Older': np.inf,\n",
    "}\n",
    "\n",
    "age = pd.DataFrame(\n",
    "    {\n",
    "        'age': (obs.DATE_COMPLETED.dt.year - obs.YEAR_BORN),\n",
    "        'age_category': pd.cut(\n",
    "            # Calculate age based on survey date and respondents birth year\n",
    "            x=(obs.DATE_COMPLETED.dt.year - obs.YEAR_BORN),\n",
    "            bins=[0] + list(hhts_ages.values()),\n",
    "            labels=list(hhts_ages.keys())\n",
    "        ),\n",
    "        'unlinked_weight': obs.UNLINKED_WGHT_FCTR,\n",
    "        'linked_weight': obs.LINKED_WGHT_FCTR,\n",
    "    }\n",
    ")"
   ]
  },
  {
   "cell_type": "code",
   "execution_count": null,
   "metadata": {},
   "outputs": [],
   "source": [
    "#| code-summary: \"Table\"\n",
    "\n",
    "unweighted = age.groupby('age_category', observed=True).size()\n",
    "unlinked = age.groupby('age_category', observed=True).unlinked_weight.sum()\n",
    "linked = age.groupby('age_category', observed=True).linked_weight.sum()\n",
    "total_valid = age.dropna().size\n",
    "total = age.size\n",
    "\n",
    "summary = pd.DataFrame(\n",
    "    {\n",
    "        ('unweighted', 'count'): unweighted,\n",
    "        ('unweighted', 'percent'): unweighted / unweighted.sum(),\n",
    "        ('unlinked_weight', 'count'): unlinked,\n",
    "        ('unlinked_weight', 'percent'): unlinked / unlinked.sum(),\n",
    "        ('linked_weight', 'count'): linked,\n",
    "        ('linked_weight', 'percent'): linked / linked.sum(),\n",
    "    }\n",
    ")\n",
    "\n",
    "table = (\n",
    "    pd.concat(\n",
    "        [\n",
    "            summary,\n",
    "            pd.DataFrame(\n",
    "                [\n",
    "                    {'age_category': 'Total valid', ('unweighted', 'count'): total_valid, ('unweighted', 'percent'): total_valid/total},\n",
    "                    {'age_category': 'Total', ('unweighted', 'count'): total}\n",
    "                ],\n",
    "                index=['Total valid', 'Total'],\n",
    "            )\n",
    "            .set_index('age_category')\n",
    "            \n",
    "        ]\n",
    "    )\n",
    "    .to_html(\n",
    "        formatters={\n",
    "            ('unweighted', 'count'): '{:,.0f}'.format,\n",
    "            ('unweighted', 'percent'): '{:,.2%}'.format,\n",
    "            ('unlinked_weight', 'count'): '{:,.0f}'.format,\n",
    "            ('unlinked_weight', 'percent'): '{:,.2%}'.format,\n",
    "            ('linked_weight', 'count'): '{:,.0f}'.format,\n",
    "            ('linked_weight', 'percent'): '{:,.2%}'.format,\n",
    "        }\n",
    "    )\n",
    ")\n",
    "\n",
    "display(HTML(table))"
   ]
  },
  {
   "cell_type": "code",
   "execution_count": null,
   "metadata": {},
   "outputs": [],
   "source": [
    "#| code-summary: \"Chart\"\n",
    "\n",
    "figure = go.Figure()\n",
    "figure.add_trace(\n",
    "    go.Bar(\n",
    "        x=summary.index,\n",
    "        y=summary[('unweighted', 'percent')],\n",
    "        name='Unweighted',\n",
    "    )\n",
    ")\n",
    "figure.add_trace(\n",
    "    go.Bar(\n",
    "        x=summary.index,\n",
    "        y=summary[('unlinked_weight', 'percent')],\n",
    "        name='Weighted (Unlinked)',\n",
    "    )\n",
    ")\n",
    "figure.add_trace(\n",
    "    go.Bar(\n",
    "        x=summary.index,\n",
    "        y=summary[('linked_weight', 'percent')],\n",
    "        name='Weighted (Linked)',\n",
    "    )\n",
    ")\n",
    "figure.update_layout(\n",
    "    title_text='Unweighted and Weighted Responses by Age',\n",
    "    yaxis_range=[0, 1],\n",
    "    yaxis_tickformat=',.0%',\n",
    "    xaxis_title='Age',\n",
    "yaxis_title='Percent',\n",
    ")\n",
    "\n",
    "figure.show()"
   ]
  },
  {
   "cell_type": "markdown",
   "metadata": {},
   "source": [
    "### Income"
   ]
  }
 ],
 "metadata": {
  "kernelspec": {
   "display_name": "Python 3",
   "language": "python",
   "name": "python3"
  },
  "language_info": {
   "codemirror_mode": {
    "name": "ipython",
    "version": 3
   },
   "file_extension": ".py",
   "mimetype": "text/x-python",
   "name": "python",
   "nbconvert_exporter": "python",
   "pygments_lexer": "ipython3",
   "version": "3.12.3"
  }
 },
 "nbformat": 4,
 "nbformat_minor": 2
}
